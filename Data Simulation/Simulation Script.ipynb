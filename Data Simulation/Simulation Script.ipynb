{
 "cells": [
  {
   "cell_type": "markdown",
   "metadata": {},
   "source": [
    "# Data Stimulation"
   ]
  },
  {
   "cell_type": "code",
   "execution_count": 10,
   "metadata": {
    "ExecuteTime": {
     "end_time": "2018-11-17T21:47:32.744672Z",
     "start_time": "2018-11-17T21:47:32.741303Z"
    }
   },
   "outputs": [],
   "source": [
    "import pandas as pd\n",
    "import numpy as np\n",
    "import random as rmd"
   ]
  },
  {
   "cell_type": "markdown",
   "metadata": {
    "heading_collapsed": true
   },
   "source": [
    "## Risk Score Data"
   ]
  },
  {
   "cell_type": "code",
   "execution_count": 11,
   "metadata": {
    "ExecuteTime": {
     "end_time": "2018-11-17T21:47:32.906680Z",
     "start_time": "2018-11-17T21:47:32.900613Z"
    },
    "hidden": true
   },
   "outputs": [],
   "source": [
    "PATIENTS = 4\n",
    "TIMES = 100\n",
    "\n",
    "columns = np.linspace(1,PATIENTS,PATIENTS).astype(int)\n",
    "rows = np.linspace(1, TIMES, TIMES).astype(int)\n",
    "risks = pd.DataFrame(columns=columns, index=rows)"
   ]
  },
  {
   "cell_type": "code",
   "execution_count": 12,
   "metadata": {
    "ExecuteTime": {
     "end_time": "2018-11-17T21:47:33.058629Z",
     "start_time": "2018-11-17T21:47:33.048947Z"
    },
    "code_folding": [
     0
    ],
    "hidden": true
   },
   "outputs": [],
   "source": [
    "# Patient 1 : low risk, 0 to .25 \n",
    "P = 1\n",
    "\n",
    "for i in range(1,10):\n",
    "    risks.at[i,P] = rmd.uniform(0,0.1)\n",
    "\n",
    "for i in range(10,25):\n",
    "    risks.at[i,P] = rmd.uniform(0.06,0.18)\n",
    "\n",
    "for i in range(25,35):\n",
    "    risks.at[i,P] = rmd.uniform(0.06,0.13)\n",
    "\n",
    "for i in range(35,78):\n",
    "    risks.at[i,P] = rmd.uniform(0,0.13)\n",
    "\n",
    "for i in range(78,82):\n",
    "    risks.at[i,P] = rmd.uniform(0.14,0.2)\n",
    "\n",
    "for i in range(82,101):\n",
    "    risks.at[i,P] = rmd.uniform(0.03,0.07)"
   ]
  },
  {
   "cell_type": "code",
   "execution_count": 13,
   "metadata": {
    "ExecuteTime": {
     "end_time": "2018-11-17T21:47:33.224771Z",
     "start_time": "2018-11-17T21:47:33.218312Z"
    },
    "code_folding": [
     0
    ],
    "hidden": true
   },
   "outputs": [],
   "source": [
    "# Patient 2 : very high risk, 0 to 1 earlier \n",
    "\n",
    "P = 2\n",
    "\n",
    "for i in range(1,10):\n",
    "    risks.at[i,P] = rmd.uniform(0,0.2)\n",
    "\n",
    "for i in range(10,25):\n",
    "    risks.at[i,P] = rmd.uniform(0.3,0.5)\n",
    "\n",
    "for i in range(25,35):\n",
    "    risks.at[i,P] = rmd.uniform(0.55,0.75)\n",
    "    \n",
    "for i in range(35,78):\n",
    "    risks.at[i,P] = rmd.uniform(0.75,.9)  \n",
    "\n",
    "for i in range(78,82):\n",
    "    risks.at[i,P] = rmd.uniform(0.8,1)\n",
    "\n",
    "for i in range(82,101):\n",
    "    risks.at[i,P] = rmd.uniform(0.9, 1)\n"
   ]
  },
  {
   "cell_type": "code",
   "execution_count": 14,
   "metadata": {
    "ExecuteTime": {
     "end_time": "2018-11-17T21:47:33.568070Z",
     "start_time": "2018-11-17T21:47:33.556944Z"
    },
    "code_folding": [
     0
    ],
    "hidden": true
   },
   "outputs": [],
   "source": [
    "# Patient 3 : high risk, 0 to 1 \n",
    "\n",
    "P = 3\n",
    "\n",
    "for i in range(1,10):\n",
    "    risks.at[i,P] = rmd.uniform(0,0.1)\n",
    "\n",
    "for i in range(10,25):\n",
    "    risks.at[i,P] = rmd.uniform(0.06,0.33)\n",
    "\n",
    "for i in range(25,35):\n",
    "    risks.at[i,P] = rmd.uniform(0.45,0.5)\n",
    "\n",
    "for i in range(35,78):\n",
    "    risks.at[i,P] = rmd.uniform(0.6,0.65)\n",
    "\n",
    "for i in range(78,82):\n",
    "    risks.at[i,P] = rmd.uniform(0.7,0.9)\n",
    "\n",
    "for i in range(82,101):\n",
    "    risks.at[i,P] = rmd.uniform(0.8,1)"
   ]
  },
  {
   "cell_type": "code",
   "execution_count": 15,
   "metadata": {
    "ExecuteTime": {
     "end_time": "2018-11-17T21:47:33.568070Z",
     "start_time": "2018-11-17T21:47:33.556944Z"
    },
    "code_folding": [
     0
    ],
    "hidden": true
   },
   "outputs": [],
   "source": [
    "# Patient 4 : medium risk, 0 to 0.7 \n",
    "\n",
    "P = 4\n",
    "\n",
    "for i in range(1,10):\n",
    "    risks.at[i,P] = rmd.uniform(0,0.1)\n",
    "\n",
    "for i in range(10,25):\n",
    "    risks.at[i,P] = rmd.uniform(0.06,0.18)\n",
    "\n",
    "for i in range(25,35):\n",
    "    risks.at[i,P] = rmd.uniform(0.25,0.33)\n",
    "\n",
    "for i in range(35,78):\n",
    "    risks.at[i,P] = rmd.uniform(0.4,0.55)\n",
    "\n",
    "for i in range(78,82):\n",
    "    risks.at[i,P] = rmd.uniform(0.58,0.7)\n",
    "\n",
    "for i in range(82,101):\n",
    "    risks.at[i,P] = rmd.uniform(0.4,0.5)"
   ]
  },
  {
   "cell_type": "code",
   "execution_count": 18,
   "metadata": {
    "ExecuteTime": {
     "end_time": "2018-11-17T21:50:45.715591Z",
     "start_time": "2018-11-17T21:50:45.708967Z"
    },
    "hidden": true
   },
   "outputs": [],
   "source": [
    "risks.to_csv('Risks.txt',sep=' ', index=False, header=False)"
   ]
  },
  {
   "cell_type": "markdown",
   "metadata": {},
   "source": [
    "## Sensor Matrix Data"
   ]
  },
  {
   "cell_type": "code",
   "execution_count": 57,
   "metadata": {
    "ExecuteTime": {
     "end_time": "2018-11-17T23:28:32.013823Z",
     "start_time": "2018-11-17T23:28:32.008528Z"
    }
   },
   "outputs": [],
   "source": [
    "sensor = np.zeros((6,4))\n",
    "\n",
    "for i in (3, 5):\n",
    "    for j in (1,2):\n",
    "        sensor[i,j] = 1;\n",
    "\n",
    "i=2\n",
    "for j in (1,2):\n",
    "    sensor[i,j] = 0.5;\n",
    "    \n",
    "np.savetxt('Sensor.txt', sensor)"
   ]
  }
 ],
 "metadata": {
  "kernelspec": {
   "display_name": "Python 3",
   "language": "python",
   "name": "python3"
  },
  "language_info": {
   "codemirror_mode": {
    "name": "ipython",
    "version": 3
   },
   "file_extension": ".py",
   "mimetype": "text/x-python",
   "name": "python",
   "nbconvert_exporter": "python",
   "pygments_lexer": "ipython3",
   "version": "3.6.5"
  },
  "toc": {
   "base_numbering": 1,
   "nav_menu": {},
   "number_sections": false,
   "sideBar": true,
   "skip_h1_title": false,
   "title_cell": "Table of Contents",
   "title_sidebar": "Contents",
   "toc_cell": false,
   "toc_position": {},
   "toc_section_display": true,
   "toc_window_display": false
  }
 },
 "nbformat": 4,
 "nbformat_minor": 2
}
